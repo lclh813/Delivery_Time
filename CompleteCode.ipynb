{
 "cells": [
  {
   "cell_type": "markdown",
   "metadata": {},
   "source": [
    "# Delivery Time"
   ]
  },
  {
   "cell_type": "markdown",
   "metadata": {},
   "source": [
    "# 1. Preparation"
   ]
  },
  {
   "cell_type": "code",
   "execution_count": 1,
   "metadata": {},
   "outputs": [],
   "source": [
    "import pandas as pd\n",
    "import datetime"
   ]
  },
  {
   "cell_type": "markdown",
   "metadata": {},
   "source": [
    "# 2. Import Data"
   ]
  },
  {
   "cell_type": "code",
   "execution_count": 2,
   "metadata": {},
   "outputs": [],
   "source": [
    "data = {'Order': ['2020/1/1 14:00', '2020/1/1 14:00', '2020/1/1 14:00', \n",
    "                  '2020/1/1 23:00', '2020/1/1 23:00', '2020/1/1 23:00', '2020/1/1 9:00'],\n",
    "        'Delivery': ['2020/1/8 11:00', '2020/1/8 7:00', '2020/1/2 11:00', \n",
    "                     '2020/1/8 11:00', '2020/1/8 7:00', '2020/1/2 11:00', '2020/1/1 18:00']}  "
   ]
  },
  {
   "cell_type": "code",
   "execution_count": 3,
   "metadata": {},
   "outputs": [],
   "source": [
    "df = pd.DataFrame(data)"
   ]
  },
  {
   "cell_type": "code",
   "execution_count": 4,
   "metadata": {},
   "outputs": [
    {
     "data": {
      "text/html": [
       "<div>\n",
       "<style scoped>\n",
       "    .dataframe tbody tr th:only-of-type {\n",
       "        vertical-align: middle;\n",
       "    }\n",
       "\n",
       "    .dataframe tbody tr th {\n",
       "        vertical-align: top;\n",
       "    }\n",
       "\n",
       "    .dataframe thead th {\n",
       "        text-align: right;\n",
       "    }\n",
       "</style>\n",
       "<table border=\"1\" class=\"dataframe\">\n",
       "  <thead>\n",
       "    <tr style=\"text-align: right;\">\n",
       "      <th></th>\n",
       "      <th>Order</th>\n",
       "      <th>Delivery</th>\n",
       "    </tr>\n",
       "  </thead>\n",
       "  <tbody>\n",
       "    <tr>\n",
       "      <th>0</th>\n",
       "      <td>2020/1/1 14:00</td>\n",
       "      <td>2020/1/8 11:00</td>\n",
       "    </tr>\n",
       "    <tr>\n",
       "      <th>1</th>\n",
       "      <td>2020/1/1 14:00</td>\n",
       "      <td>2020/1/8 7:00</td>\n",
       "    </tr>\n",
       "    <tr>\n",
       "      <th>2</th>\n",
       "      <td>2020/1/1 14:00</td>\n",
       "      <td>2020/1/2 11:00</td>\n",
       "    </tr>\n",
       "    <tr>\n",
       "      <th>3</th>\n",
       "      <td>2020/1/1 23:00</td>\n",
       "      <td>2020/1/8 11:00</td>\n",
       "    </tr>\n",
       "    <tr>\n",
       "      <th>4</th>\n",
       "      <td>2020/1/1 23:00</td>\n",
       "      <td>2020/1/8 7:00</td>\n",
       "    </tr>\n",
       "    <tr>\n",
       "      <th>5</th>\n",
       "      <td>2020/1/1 23:00</td>\n",
       "      <td>2020/1/2 11:00</td>\n",
       "    </tr>\n",
       "    <tr>\n",
       "      <th>6</th>\n",
       "      <td>2020/1/1 9:00</td>\n",
       "      <td>2020/1/1 18:00</td>\n",
       "    </tr>\n",
       "  </tbody>\n",
       "</table>\n",
       "</div>"
      ],
      "text/plain": [
       "            Order        Delivery\n",
       "0  2020/1/1 14:00  2020/1/8 11:00\n",
       "1  2020/1/1 14:00   2020/1/8 7:00\n",
       "2  2020/1/1 14:00  2020/1/2 11:00\n",
       "3  2020/1/1 23:00  2020/1/8 11:00\n",
       "4  2020/1/1 23:00   2020/1/8 7:00\n",
       "5  2020/1/1 23:00  2020/1/2 11:00\n",
       "6   2020/1/1 9:00  2020/1/1 18:00"
      ]
     },
     "execution_count": 4,
     "metadata": {},
     "output_type": "execute_result"
    }
   ],
   "source": [
    "df"
   ]
  },
  {
   "cell_type": "code",
   "execution_count": 5,
   "metadata": {},
   "outputs": [
    {
     "data": {
      "text/plain": [
       "Order       object\n",
       "Delivery    object\n",
       "dtype: object"
      ]
     },
     "execution_count": 5,
     "metadata": {},
     "output_type": "execute_result"
    }
   ],
   "source": [
    "df.dtypes"
   ]
  },
  {
   "cell_type": "code",
   "execution_count": 6,
   "metadata": {},
   "outputs": [],
   "source": [
    "df['Order'] = pd.to_datetime(df['Order'])\n",
    "df['Delivery'] = pd.to_datetime(df['Delivery'])"
   ]
  },
  {
   "cell_type": "code",
   "execution_count": 7,
   "metadata": {},
   "outputs": [
    {
     "data": {
      "text/plain": [
       "Order       datetime64[ns]\n",
       "Delivery    datetime64[ns]\n",
       "dtype: object"
      ]
     },
     "execution_count": 7,
     "metadata": {},
     "output_type": "execute_result"
    }
   ],
   "source": [
    "df.dtypes"
   ]
  },
  {
   "cell_type": "markdown",
   "metadata": {},
   "source": [
    "# 3. Calculation"
   ]
  },
  {
   "cell_type": "markdown",
   "metadata": {},
   "source": [
    "## 3.1. Time Addition"
   ]
  },
  {
   "cell_type": "code",
   "execution_count": 8,
   "metadata": {},
   "outputs": [],
   "source": [
    "def time_addition(order, delivery):\n",
    "    order_date, order_time, delivery_date, delivery_time = order.date(), order.time(), delivery.date(), delivery.time()\n",
    "    order_21 = datetime.datetime(order.year, order.month, order.day, 21, 0)\n",
    "    delivery_8 = datetime.datetime(delivery.year, delivery.month, delivery.day, 8, 0) \n",
    "    if order_date != delivery_date:\n",
    "        first_day_duration = max((order_21-order).total_seconds() / 3600, 0)\n",
    "        last_day_duration = max((delivery-delivery_8).total_seconds() / 3600, 0)\n",
    "        delivery_duration = (delivery_date-order_date).days-1\n",
    "        total_duration = first_day_duration + last_day_duration + delivery_duration*13        \n",
    "    elif order_date == delivery_date:\n",
    "        total_duration = (delivery-order).total_seconds() / 3600\n",
    "    return total_duration"
   ]
  },
  {
   "cell_type": "markdown",
   "metadata": {},
   "source": [
    "## 3.2. Time Deduction"
   ]
  },
  {
   "cell_type": "code",
   "execution_count": 9,
   "metadata": {},
   "outputs": [],
   "source": [
    "def time_deduction(order, delivery):\n",
    "    order_date, order_time, delivery_date, delivery_time = order.date(), order.time(), delivery.date(), delivery.time()\n",
    "    order_21 = datetime.datetime(order.year, order.month, order.day, 21, 0)\n",
    "    delivery_8 = datetime.datetime(delivery.year, delivery.month, delivery.day, 8, 0)\n",
    "    \n",
    "    duration = (delivery-order).total_seconds() / 3600    \n",
    "    deduction = (delivery_date-order_date).days \n",
    "    \n",
    "    first_day_deduction = min((order_21-order).total_seconds() / 3600, 0)\n",
    "    last_day_deduction = min((delivery-delivery_8).total_seconds() / 3600, 0)\n",
    "    \n",
    "    total_duration = duration - first_day_deduction - last_day_deduction - deduction*11\n",
    "    return total_duration"
   ]
  },
  {
   "cell_type": "code",
   "execution_count": 10,
   "metadata": {},
   "outputs": [],
   "source": [
    "def df_apply_delivery_time(row, is_addition):\n",
    "    if is_addition:\n",
    "        duration = time_addition(row['Order'], row['Delivery'])\n",
    "    else: \n",
    "        duration = time_deduction(row['Order'], row['Delivery'])\n",
    "    return duration"
   ]
  },
  {
   "cell_type": "code",
   "execution_count": 11,
   "metadata": {},
   "outputs": [],
   "source": [
    "df['Delivery Time (Addition)'] = df.apply(df_apply_delivery_time, is_addition=True, axis=1)\n",
    "df['Delivery Time (Deduction)'] = df.apply(df_apply_delivery_time, is_addition=False, axis=1)"
   ]
  },
  {
   "cell_type": "code",
   "execution_count": 12,
   "metadata": {},
   "outputs": [
    {
     "data": {
      "text/html": [
       "<div>\n",
       "<style scoped>\n",
       "    .dataframe tbody tr th:only-of-type {\n",
       "        vertical-align: middle;\n",
       "    }\n",
       "\n",
       "    .dataframe tbody tr th {\n",
       "        vertical-align: top;\n",
       "    }\n",
       "\n",
       "    .dataframe thead th {\n",
       "        text-align: right;\n",
       "    }\n",
       "</style>\n",
       "<table border=\"1\" class=\"dataframe\">\n",
       "  <thead>\n",
       "    <tr style=\"text-align: right;\">\n",
       "      <th></th>\n",
       "      <th>Order</th>\n",
       "      <th>Delivery</th>\n",
       "      <th>Delivery Time (Addition)</th>\n",
       "      <th>Delivery Time (Deduction)</th>\n",
       "    </tr>\n",
       "  </thead>\n",
       "  <tbody>\n",
       "    <tr>\n",
       "      <th>0</th>\n",
       "      <td>2020-01-01 14:00:00</td>\n",
       "      <td>2020-01-08 11:00:00</td>\n",
       "      <td>88.0</td>\n",
       "      <td>88.0</td>\n",
       "    </tr>\n",
       "    <tr>\n",
       "      <th>1</th>\n",
       "      <td>2020-01-01 14:00:00</td>\n",
       "      <td>2020-01-08 07:00:00</td>\n",
       "      <td>85.0</td>\n",
       "      <td>85.0</td>\n",
       "    </tr>\n",
       "    <tr>\n",
       "      <th>2</th>\n",
       "      <td>2020-01-01 14:00:00</td>\n",
       "      <td>2020-01-02 11:00:00</td>\n",
       "      <td>10.0</td>\n",
       "      <td>10.0</td>\n",
       "    </tr>\n",
       "    <tr>\n",
       "      <th>3</th>\n",
       "      <td>2020-01-01 23:00:00</td>\n",
       "      <td>2020-01-08 11:00:00</td>\n",
       "      <td>81.0</td>\n",
       "      <td>81.0</td>\n",
       "    </tr>\n",
       "    <tr>\n",
       "      <th>4</th>\n",
       "      <td>2020-01-01 23:00:00</td>\n",
       "      <td>2020-01-08 07:00:00</td>\n",
       "      <td>78.0</td>\n",
       "      <td>78.0</td>\n",
       "    </tr>\n",
       "    <tr>\n",
       "      <th>5</th>\n",
       "      <td>2020-01-01 23:00:00</td>\n",
       "      <td>2020-01-02 11:00:00</td>\n",
       "      <td>3.0</td>\n",
       "      <td>3.0</td>\n",
       "    </tr>\n",
       "    <tr>\n",
       "      <th>6</th>\n",
       "      <td>2020-01-01 09:00:00</td>\n",
       "      <td>2020-01-01 18:00:00</td>\n",
       "      <td>9.0</td>\n",
       "      <td>9.0</td>\n",
       "    </tr>\n",
       "  </tbody>\n",
       "</table>\n",
       "</div>"
      ],
      "text/plain": [
       "                Order            Delivery  Delivery Time (Addition)  \\\n",
       "0 2020-01-01 14:00:00 2020-01-08 11:00:00                      88.0   \n",
       "1 2020-01-01 14:00:00 2020-01-08 07:00:00                      85.0   \n",
       "2 2020-01-01 14:00:00 2020-01-02 11:00:00                      10.0   \n",
       "3 2020-01-01 23:00:00 2020-01-08 11:00:00                      81.0   \n",
       "4 2020-01-01 23:00:00 2020-01-08 07:00:00                      78.0   \n",
       "5 2020-01-01 23:00:00 2020-01-02 11:00:00                       3.0   \n",
       "6 2020-01-01 09:00:00 2020-01-01 18:00:00                       9.0   \n",
       "\n",
       "   Delivery Time (Deduction)  \n",
       "0                       88.0  \n",
       "1                       85.0  \n",
       "2                       10.0  \n",
       "3                       81.0  \n",
       "4                       78.0  \n",
       "5                        3.0  \n",
       "6                        9.0  "
      ]
     },
     "execution_count": 12,
     "metadata": {},
     "output_type": "execute_result"
    }
   ],
   "source": [
    "df"
   ]
  }
 ],
 "metadata": {
  "kernelspec": {
   "display_name": "Python 3",
   "language": "python",
   "name": "python3"
  },
  "language_info": {
   "codemirror_mode": {
    "name": "ipython",
    "version": 3
   },
   "file_extension": ".py",
   "mimetype": "text/x-python",
   "name": "python",
   "nbconvert_exporter": "python",
   "pygments_lexer": "ipython3",
   "version": "3.6.5"
  }
 },
 "nbformat": 4,
 "nbformat_minor": 2
}
